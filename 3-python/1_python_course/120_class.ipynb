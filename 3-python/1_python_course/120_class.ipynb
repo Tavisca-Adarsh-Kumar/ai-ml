{
 "cells": [
  {
   "cell_type": "code",
   "execution_count": 10,
   "metadata": {},
   "outputs": [],
   "source": [
    "class Shirt:\n",
    "    \"\"\" This class is demo or how to write class, methods\n",
    "    \"\"\"\n",
    "    def __init__(self, color, size, price):\n",
    "        self.color = color\n",
    "        self.size = size\n",
    "        self.price = price\n",
    "    def set_price(self, newPrice):\n",
    "        self.price = newPrice\n",
    "    def get_price(self):\n",
    "        return self.price\n",
    "    "
   ]
  },
  {
   "cell_type": "code",
   "execution_count": 11,
   "metadata": {},
   "outputs": [
    {
     "name": "stdout",
     "output_type": "stream",
     "text": [
      "blue 450 32\n",
      "blue 500 32\n",
      "blue 550 32\n"
     ]
    }
   ],
   "source": [
    "shirt1 = Shirt(\"blue\", 32, 450)\n",
    "print(shirt1.color, shirt1.price, shirt1.size)\n",
    "shirt1.set_price(500)\n",
    "print(shirt1.color, shirt1.price, shirt1.size)\n",
    "shirt1.price = 550\n",
    "print(shirt1.color, shirt1.get_price(), shirt1.size)"
   ]
  },
  {
   "cell_type": "markdown",
   "metadata": {},
   "source": [
    "**Function vs Method**\n",
    "\n",
    "Method is inside of a class whereas a function is outside of a class."
   ]
  },
  {
   "cell_type": "code",
   "execution_count": null,
   "metadata": {},
   "outputs": [],
   "source": []
  }
 ],
 "metadata": {
  "kernelspec": {
   "display_name": "Python 3",
   "language": "python",
   "name": "python3"
  },
  "language_info": {
   "codemirror_mode": {
    "name": "ipython",
    "version": 3
   },
   "file_extension": ".py",
   "mimetype": "text/x-python",
   "name": "python",
   "nbconvert_exporter": "python",
   "pygments_lexer": "ipython3",
   "version": "3.11.8"
  }
 },
 "nbformat": 4,
 "nbformat_minor": 2
}
