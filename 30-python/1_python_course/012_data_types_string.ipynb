{
 "cells": [
  {
   "cell_type": "markdown",
   "metadata": {},
   "source": [
    "## Data Types"
   ]
  },
  {
   "cell_type": "markdown",
   "metadata": {},
   "source": [
    "### String"
   ]
  },
  {
   "cell_type": "code",
   "execution_count": 1,
   "metadata": {},
   "outputs": [
    {
     "name": "stdout",
     "output_type": "stream",
     "text": [
      "Welcome {} to Python!\n"
     ]
    }
   ],
   "source": [
    "str = \"Welcome {} to Python!\" # can use single quote (') as well\n",
    "print (str)"
   ]
  },
  {
   "cell_type": "code",
   "execution_count": 2,
   "metadata": {},
   "outputs": [
    {
     "name": "stdout",
     "output_type": "stream",
     "text": [
      "welcome {} to python!\n",
      "WELCOME {} TO PYTHON!\n",
      "Welcome {} to python!\n"
     ]
    }
   ],
   "source": [
    "print (str.lower())\n",
    "print (str.upper())\n",
    "print (str.capitalize())"
   ]
  },
  {
   "cell_type": "code",
   "execution_count": 3,
   "metadata": {},
   "outputs": [
    {
     "name": "stdout",
     "output_type": "stream",
     "text": [
      "Welcome Adarsh to Python!\n"
     ]
    }
   ],
   "source": [
    "print (str.format(\"Adarsh\"))"
   ]
  },
  {
   "cell_type": "code",
   "execution_count": 15,
   "metadata": {},
   "outputs": [
    {
     "name": "stdout",
     "output_type": "stream",
     "text": [
      "Welcome Adarsh to Python! Adarsh is a learner!\n"
     ]
    }
   ],
   "source": [
    "str = \"Welcome {name} to Python! {name} is a learner!\" # named placeholders\n",
    "print (str.format(name=\"Adarsh\")) # specifiy value for named placeholders"
   ]
  },
  {
   "cell_type": "markdown",
   "metadata": {},
   "source": [
    "### String as List of characters"
   ]
  },
  {
   "cell_type": "code",
   "execution_count": 14,
   "metadata": {},
   "outputs": [
    {
     "name": "stdout",
     "output_type": "stream",
     "text": [
      "str[1] 1  | str[-1] 8\n",
      "str[1:5] 1234  | str[3: 5] 34  | str[1:] 12345678  | str[:4] 0123 | str[-2:] 78\n"
     ]
    }
   ],
   "source": [
    "str = '012345678'\n",
    "print (\"str[1]\", str[1], \" | str[-1]\", str[-1])\n",
    "print (\"str[1:5]\", str[1:5], \" | str[3: 5]\", str[3: 5], \" | str[1:]\", str[1:], \" | str[:4]\", str[:4], \"| str[-2:]\", str[-2:])"
   ]
  }
 ],
 "metadata": {
  "kernelspec": {
   "display_name": "Python 3",
   "language": "python",
   "name": "python3"
  },
  "language_info": {
   "codemirror_mode": {
    "name": "ipython",
    "version": 3
   },
   "file_extension": ".py",
   "mimetype": "text/x-python",
   "name": "python",
   "nbconvert_exporter": "python",
   "pygments_lexer": "ipython3",
   "version": "3.11.8"
  }
 },
 "nbformat": 4,
 "nbformat_minor": 2
}
