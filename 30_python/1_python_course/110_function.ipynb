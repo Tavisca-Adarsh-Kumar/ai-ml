{
 "cells": [
  {
   "cell_type": "markdown",
   "metadata": {},
   "source": [
    "## Function"
   ]
  },
  {
   "cell_type": "code",
   "execution_count": 9,
   "metadata": {},
   "outputs": [
    {
     "name": "stdout",
     "output_type": "stream",
     "text": [
      "Adarsh 40\n",
      "Adarsh 60\n",
      "Rohit 60\n",
      "Adarsh Kumar 50\n"
     ]
    }
   ],
   "source": [
    "def fun_name(param1, param2 = 60):\n",
    "    \"\"\"\n",
    "    This function prints your name and age\n",
    "    \"\"\"\n",
    "    print(param1, param2)\n",
    "\n",
    "fun_name(\"Adarsh\", 40)\n",
    "fun_name(\"Adarsh\")\n",
    "fun_name(param1=\"Rohit\")\n",
    "fun_name(param2=50, param1=\"Adarsh Kumar\")"
   ]
  },
  {
   "cell_type": "code",
   "execution_count": null,
   "metadata": {},
   "outputs": [],
   "source": []
  }
 ],
 "metadata": {
  "kernelspec": {
   "display_name": "Python 3",
   "language": "python",
   "name": "python3"
  },
  "language_info": {
   "codemirror_mode": {
    "name": "ipython",
    "version": 3
   },
   "file_extension": ".py",
   "mimetype": "text/x-python",
   "name": "python",
   "nbconvert_exporter": "python",
   "pygments_lexer": "ipython3",
   "version": "3.11.8"
  }
 },
 "nbformat": 4,
 "nbformat_minor": 2
}
